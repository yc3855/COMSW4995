{
 "cells": [
  {
   "cell_type": "code",
   "execution_count": 1,
   "id": "388e2dd8",
   "metadata": {},
   "outputs": [],
   "source": [
    "import numpy as np"
   ]
  },
  {
   "cell_type": "code",
   "execution_count": 2,
   "id": "84f87350",
   "metadata": {},
   "outputs": [
    {
     "ename": "SyntaxError",
     "evalue": "invalid syntax (<ipython-input-2-a1e834ff4b7c>, line 1)",
     "output_type": "error",
     "traceback": [
      "\u001b[1;36m  File \u001b[1;32m\"<ipython-input-2-a1e834ff4b7c>\"\u001b[1;36m, line \u001b[1;32m1\u001b[0m\n\u001b[1;33m    void test_toy_problem()\u001b[0m\n\u001b[1;37m         ^\u001b[0m\n\u001b[1;31mSyntaxError\u001b[0m\u001b[1;31m:\u001b[0m invalid syntax\n"
     ]
    }
   ],
   "source": [
    "void test_toy_problem()\n",
    "{\n",
    "    boost::multi_array<double, 1> x = np::linspace(0, 1, 100);\n",
    "    boost::multi_array<double, 1> y = np::linspace(0, 1, 100);\n",
    "\n",
    "\n",
    "    const boost::multi_array<double, 1> axis[2] = {x, y};\n",
    "    std::vector<boost::multi_array<double, 2>> XcY = np::meshgrid(axis, false, np::xy);\n",
    "\n",
    "    double dx = 1.0 / 100.0;\n",
    "    double dy = 1.0 / 100.0;\n",
    "\n",
    "    boost::multi_array<double, 2> f = np::pow(XcY[0], 2.0) + XcY[0] * np::pow(XcY[1], 1.0);\n",
    "\n",
    "    std::vector<boost::multi_array<double, 2>> gradf = np::gradient(f, {dx, dy});\n",
    "\n",
    "    int i = 10;\n",
    "    int j = 20;\n",
    "    std::cout << \"df/dx of f(x,y) = x^2 + xy at x = \" << x[i] << \" and y = \" << y[j] << \" is equal to \" << gradf[0][i][j];\n",
    "\n",
    "    std::cout << \"\\n\";\n",
    "}\n"
   ]
  },
  {
   "cell_type": "code",
   "execution_count": 35,
   "id": "9d33c103",
   "metadata": {},
   "outputs": [],
   "source": [
    "def test_toy_problem():\n",
    "    x = np.linspace(0,1,100)\n",
    "    y = np.linspace(0,1,100)\n",
    "    XcY = np.meshgrid(x,y,sparse=False,indexing=\"ij\")\n",
    "    dx = 1.0/100.0\n",
    "    dy = 1.0/100.0\n",
    "    f = np.power(XcY[0],2.0) + XcY[0] * np.power(XcY[1],1.0)\n",
    "    gradf = np.gradient(f,dx,dy)\n",
    "    i = 10;\n",
    "    j = 20;\n",
    "    print( \"df/dx of f(x,y) = x^2 + xy at x = \" + str(x[i]) + \" and y = \" +  str(y[j]) + \" is equal to \" +  str(gradf[0][i][j]))"
   ]
  },
  {
   "cell_type": "code",
   "execution_count": 36,
   "id": "9ebf3498",
   "metadata": {},
   "outputs": [
    {
     "name": "stdout",
     "output_type": "stream",
     "text": [
      "[[0.00000000e+00 0.00000000e+00 0.00000000e+00 ... 0.00000000e+00\n",
      "  0.00000000e+00 0.00000000e+00]\n",
      " [1.02030405e-04 2.04060810e-04 3.06091215e-04 ... 9.99897970e-03\n",
      "  1.01010101e-02 1.02030405e-02]\n",
      " [4.08121620e-04 6.12182430e-04 8.16243240e-04 ... 2.02020202e-02\n",
      "  2.04060810e-02 2.06101418e-02]\n",
      " ...\n",
      " [9.60004081e-01 9.69901031e-01 9.79797980e-01 ... 1.92000816e+00\n",
      "  1.92990511e+00 1.93980206e+00]\n",
      " [9.79900010e-01 9.89898990e-01 9.99897970e-01 ... 1.94980104e+00\n",
      "  1.95980002e+00 1.96979900e+00]\n",
      " [1.00000000e+00 1.01010101e+00 1.02020202e+00 ... 1.97979798e+00\n",
      "  1.98989899e+00 2.00000000e+00]]\n",
      "df/dx of f(x,y) = x^2 + xy at x = 0.10101010101010102 and y = 0.20202020202020204 is equal to 0.4081216202428326\n"
     ]
    }
   ],
   "source": [
    "test_toy_problem()"
   ]
  },
  {
   "cell_type": "code",
   "execution_count": null,
   "id": "9c8da5d5",
   "metadata": {},
   "outputs": [],
   "source": []
  }
 ],
 "metadata": {
  "kernelspec": {
   "display_name": "Python 3",
   "language": "python",
   "name": "python3"
  },
  "language_info": {
   "codemirror_mode": {
    "name": "ipython",
    "version": 3
   },
   "file_extension": ".py",
   "mimetype": "text/x-python",
   "name": "python",
   "nbconvert_exporter": "python",
   "pygments_lexer": "ipython3",
   "version": "3.8.8"
  }
 },
 "nbformat": 4,
 "nbformat_minor": 5
}
